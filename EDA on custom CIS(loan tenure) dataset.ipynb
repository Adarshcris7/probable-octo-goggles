{
  "nbformat": 4,
  "nbformat_minor": 0,
  "metadata": {
    "colab": {
      "name": "STS EDA Assignment I - Interactive python notebook - Adarsh Raj_A21001.ipynb",
      "provenance": [],
      "collapsed_sections": []
    },
    "kernelspec": {
      "name": "python3",
      "display_name": "Python 3"
    },
    "language_info": {
      "name": "python"
    }
  },
  "cells": [
    {
      "cell_type": "markdown",
      "metadata": {
        "id": "Y4G1UU5Uatpa"
      },
      "source": [
        "# **Name - Adarsh Raj**\n",
        "\n",
        "# **A21001**"
      ]
    },
    {
      "cell_type": "markdown",
      "metadata": {
        "id": "xn8OABWBIoi9"
      },
      "source": [
        "First relevant libraries import actions will be done and then we will use some basic pandas commands to explore the different columns & dataset on a preliminary basis."
      ]
    },
    {
      "cell_type": "code",
      "metadata": {
        "id": "06QV-2H6xPCI"
      },
      "source": [
        "#Importing relevant Libraries required for dataset analysis\n",
        "import numpy as np\n",
        "import pandas as pd\n",
        "import matplotlib.pylab as plt\n",
        "import seaborn as sns\n",
        "from scipy.stats import norm"
      ],
      "execution_count": 1,
      "outputs": []
    },
    {
      "cell_type": "code",
      "metadata": {
        "colab": {
          "base_uri": "https://localhost:8080/"
        },
        "id": "62tPPyv1hMKB",
        "outputId": "a2b3685e-5c8b-4700-9360-141116cb063c"
      },
      "source": [
        "from google.colab import drive\n",
        "drive.mount('/content/drive')"
      ],
      "execution_count": 4,
      "outputs": [
        {
          "output_type": "stream",
          "name": "stdout",
          "text": [
            "Drive already mounted at /content/drive; to attempt to forcibly remount, call drive.mount(\"/content/drive\", force_remount=True).\n"
          ]
        }
      ]
    },
    {
      "cell_type": "code",
      "metadata": {
        "id": "OkJzFCi_yFZc"
      },
      "source": [
        "#Reading excel file from mounted google drive\n",
        "import io\n",
        "df = pd.read_excel('/content/drive/MyDrive/Classroom/A21 : STS PGPDS Fall/DATASET CIS.xlsx')"
      ],
      "execution_count": 5,
      "outputs": []
    },
    {
      "cell_type": "code",
      "metadata": {
        "colab": {
          "base_uri": "https://localhost:8080/"
        },
        "id": "rpEWJ48Wy9jc",
        "outputId": "266aaa38-7d26-4ef1-e362-c0029032638a"
      },
      "source": [
        "#Checking shape of data.\n",
        "df.shape"
      ],
      "execution_count": 6,
      "outputs": [
        {
          "output_type": "execute_result",
          "data": {
            "text/plain": [
              "(50, 6)"
            ]
          },
          "metadata": {},
          "execution_count": 6
        }
      ]
    },
    {
      "cell_type": "markdown",
      "metadata": {
        "id": "ytiiuK2I1g2X"
      },
      "source": [
        "We get to know that dataset comprises of 50 rows and 6 columns.\n",
        "\n"
      ]
    },
    {
      "cell_type": "code",
      "metadata": {
        "colab": {
          "base_uri": "https://localhost:8080/",
          "height": 203
        },
        "id": "ZDzDPPexzEt5",
        "outputId": "ea5717e7-f521-468c-98be-32155779e968"
      },
      "source": [
        "#Checking first 5 rows of dataset\n",
        "df.head()"
      ],
      "execution_count": 7,
      "outputs": [
        {
          "output_type": "execute_result",
          "data": {
            "text/html": [
              "<div>\n",
              "<style scoped>\n",
              "    .dataframe tbody tr th:only-of-type {\n",
              "        vertical-align: middle;\n",
              "    }\n",
              "\n",
              "    .dataframe tbody tr th {\n",
              "        vertical-align: top;\n",
              "    }\n",
              "\n",
              "    .dataframe thead th {\n",
              "        text-align: right;\n",
              "    }\n",
              "</style>\n",
              "<table border=\"1\" class=\"dataframe\">\n",
              "  <thead>\n",
              "    <tr style=\"text-align: right;\">\n",
              "      <th></th>\n",
              "      <th>Status</th>\n",
              "      <th>Credit.Grade</th>\n",
              "      <th>Amount</th>\n",
              "      <th>Age</th>\n",
              "      <th>Borrower.Rate</th>\n",
              "      <th>Debt.To.Income.Ratio</th>\n",
              "    </tr>\n",
              "  </thead>\n",
              "  <tbody>\n",
              "    <tr>\n",
              "      <th>0</th>\n",
              "      <td>Current</td>\n",
              "      <td>C</td>\n",
              "      <td>5000</td>\n",
              "      <td>4</td>\n",
              "      <td>0.1500</td>\n",
              "      <td>0.040</td>\n",
              "    </tr>\n",
              "    <tr>\n",
              "      <th>1</th>\n",
              "      <td>Current</td>\n",
              "      <td>HR</td>\n",
              "      <td>1900</td>\n",
              "      <td>6</td>\n",
              "      <td>0.2650</td>\n",
              "      <td>0.020</td>\n",
              "    </tr>\n",
              "    <tr>\n",
              "      <th>2</th>\n",
              "      <td>Current</td>\n",
              "      <td>HR</td>\n",
              "      <td>1000</td>\n",
              "      <td>3</td>\n",
              "      <td>0.1500</td>\n",
              "      <td>0.020</td>\n",
              "    </tr>\n",
              "    <tr>\n",
              "      <th>3</th>\n",
              "      <td>Current</td>\n",
              "      <td>HR</td>\n",
              "      <td>1000</td>\n",
              "      <td>5</td>\n",
              "      <td>0.2900</td>\n",
              "      <td>0.020</td>\n",
              "    </tr>\n",
              "    <tr>\n",
              "      <th>4</th>\n",
              "      <td>Current</td>\n",
              "      <td>AA</td>\n",
              "      <td>2550</td>\n",
              "      <td>8</td>\n",
              "      <td>0.0795</td>\n",
              "      <td>0.033</td>\n",
              "    </tr>\n",
              "  </tbody>\n",
              "</table>\n",
              "</div>"
            ],
            "text/plain": [
              "    Status Credit.Grade  Amount  Age  Borrower.Rate  Debt.To.Income.Ratio\n",
              "0  Current            C    5000    4         0.1500                 0.040\n",
              "1  Current           HR    1900    6         0.2650                 0.020\n",
              "2  Current           HR    1000    3         0.1500                 0.020\n",
              "3  Current           HR    1000    5         0.2900                 0.020\n",
              "4  Current           AA    2550    8         0.0795                 0.033"
            ]
          },
          "metadata": {},
          "execution_count": 7
        }
      ]
    },
    {
      "cell_type": "code",
      "metadata": {
        "colab": {
          "base_uri": "https://localhost:8080/",
          "height": 203
        },
        "id": "W4M1N_1YzGEM",
        "outputId": "c6486556-91fa-4031-b5a2-3cc5ee220b66"
      },
      "source": [
        "#Checking last 5 rows of dataset\n",
        "df.tail()"
      ],
      "execution_count": 8,
      "outputs": [
        {
          "output_type": "execute_result",
          "data": {
            "text/html": [
              "<div>\n",
              "<style scoped>\n",
              "    .dataframe tbody tr th:only-of-type {\n",
              "        vertical-align: middle;\n",
              "    }\n",
              "\n",
              "    .dataframe tbody tr th {\n",
              "        vertical-align: top;\n",
              "    }\n",
              "\n",
              "    .dataframe thead th {\n",
              "        text-align: right;\n",
              "    }\n",
              "</style>\n",
              "<table border=\"1\" class=\"dataframe\">\n",
              "  <thead>\n",
              "    <tr style=\"text-align: right;\">\n",
              "      <th></th>\n",
              "      <th>Status</th>\n",
              "      <th>Credit.Grade</th>\n",
              "      <th>Amount</th>\n",
              "      <th>Age</th>\n",
              "      <th>Borrower.Rate</th>\n",
              "      <th>Debt.To.Income.Ratio</th>\n",
              "    </tr>\n",
              "  </thead>\n",
              "  <tbody>\n",
              "    <tr>\n",
              "      <th>45</th>\n",
              "      <td>Current</td>\n",
              "      <td>AA</td>\n",
              "      <td>3000</td>\n",
              "      <td>3</td>\n",
              "      <td>0.0800</td>\n",
              "      <td>0.02</td>\n",
              "    </tr>\n",
              "    <tr>\n",
              "      <th>46</th>\n",
              "      <td>Current</td>\n",
              "      <td>AA</td>\n",
              "      <td>1000</td>\n",
              "      <td>3</td>\n",
              "      <td>0.0700</td>\n",
              "      <td>0.04</td>\n",
              "    </tr>\n",
              "    <tr>\n",
              "      <th>47</th>\n",
              "      <td>Late</td>\n",
              "      <td>HR</td>\n",
              "      <td>1050</td>\n",
              "      <td>7</td>\n",
              "      <td>0.2875</td>\n",
              "      <td>0.03</td>\n",
              "    </tr>\n",
              "    <tr>\n",
              "      <th>48</th>\n",
              "      <td>Current</td>\n",
              "      <td>E</td>\n",
              "      <td>1000</td>\n",
              "      <td>1</td>\n",
              "      <td>0.2050</td>\n",
              "      <td>0.03</td>\n",
              "    </tr>\n",
              "    <tr>\n",
              "      <th>49</th>\n",
              "      <td>Current</td>\n",
              "      <td>B</td>\n",
              "      <td>2400</td>\n",
              "      <td>3</td>\n",
              "      <td>0.0850</td>\n",
              "      <td>0.04</td>\n",
              "    </tr>\n",
              "  </tbody>\n",
              "</table>\n",
              "</div>"
            ],
            "text/plain": [
              "     Status Credit.Grade  Amount  Age  Borrower.Rate  Debt.To.Income.Ratio\n",
              "45  Current           AA    3000    3         0.0800                  0.02\n",
              "46  Current           AA    1000    3         0.0700                  0.04\n",
              "47     Late           HR    1050    7         0.2875                  0.03\n",
              "48  Current            E    1000    1         0.2050                  0.03\n",
              "49  Current            B    2400    3         0.0850                  0.04"
            ]
          },
          "metadata": {},
          "execution_count": 8
        }
      ]
    },
    {
      "cell_type": "code",
      "metadata": {
        "id": "JZf0MADX0xnb",
        "colab": {
          "base_uri": "https://localhost:8080/"
        },
        "outputId": "c5acc63e-7075-4bf4-a1a0-0a418ed8a054"
      },
      "source": [
        "#To check all the column heading of the dataset\n",
        "df.columns"
      ],
      "execution_count": 9,
      "outputs": [
        {
          "output_type": "execute_result",
          "data": {
            "text/plain": [
              "Index(['Status', 'Credit.Grade', 'Amount', 'Age', 'Borrower.Rate',\n",
              "       'Debt.To.Income.Ratio'],\n",
              "      dtype='object')"
            ]
          },
          "metadata": {},
          "execution_count": 9
        }
      ]
    },
    {
      "cell_type": "code",
      "metadata": {
        "colab": {
          "base_uri": "https://localhost:8080/",
          "height": 295
        },
        "id": "lgt2kHtIzIIT",
        "outputId": "7f50ddca-e03a-4e96-f0b2-61c138fd2760"
      },
      "source": [
        "#Checking basic statistical values of the dataset\n",
        "df.describe()"
      ],
      "execution_count": 10,
      "outputs": [
        {
          "output_type": "execute_result",
          "data": {
            "text/html": [
              "<div>\n",
              "<style scoped>\n",
              "    .dataframe tbody tr th:only-of-type {\n",
              "        vertical-align: middle;\n",
              "    }\n",
              "\n",
              "    .dataframe tbody tr th {\n",
              "        vertical-align: top;\n",
              "    }\n",
              "\n",
              "    .dataframe thead th {\n",
              "        text-align: right;\n",
              "    }\n",
              "</style>\n",
              "<table border=\"1\" class=\"dataframe\">\n",
              "  <thead>\n",
              "    <tr style=\"text-align: right;\">\n",
              "      <th></th>\n",
              "      <th>Amount</th>\n",
              "      <th>Age</th>\n",
              "      <th>Borrower.Rate</th>\n",
              "      <th>Debt.To.Income.Ratio</th>\n",
              "    </tr>\n",
              "  </thead>\n",
              "  <tbody>\n",
              "    <tr>\n",
              "      <th>count</th>\n",
              "      <td>50.000000</td>\n",
              "      <td>50.000000</td>\n",
              "      <td>50.000000</td>\n",
              "      <td>50.000000</td>\n",
              "    </tr>\n",
              "    <tr>\n",
              "      <th>mean</th>\n",
              "      <td>2005.420000</td>\n",
              "      <td>5.340000</td>\n",
              "      <td>0.169364</td>\n",
              "      <td>0.021920</td>\n",
              "    </tr>\n",
              "    <tr>\n",
              "      <th>std</th>\n",
              "      <td>1331.252534</td>\n",
              "      <td>2.832825</td>\n",
              "      <td>0.079238</td>\n",
              "      <td>0.010089</td>\n",
              "    </tr>\n",
              "    <tr>\n",
              "      <th>min</th>\n",
              "      <td>1000.000000</td>\n",
              "      <td>1.000000</td>\n",
              "      <td>0.050000</td>\n",
              "      <td>0.000000</td>\n",
              "    </tr>\n",
              "    <tr>\n",
              "      <th>25%</th>\n",
              "      <td>1000.000000</td>\n",
              "      <td>3.000000</td>\n",
              "      <td>0.085000</td>\n",
              "      <td>0.013000</td>\n",
              "    </tr>\n",
              "    <tr>\n",
              "      <th>50%</th>\n",
              "      <td>1600.000000</td>\n",
              "      <td>6.000000</td>\n",
              "      <td>0.183750</td>\n",
              "      <td>0.020000</td>\n",
              "    </tr>\n",
              "    <tr>\n",
              "      <th>75%</th>\n",
              "      <td>2537.500000</td>\n",
              "      <td>8.000000</td>\n",
              "      <td>0.237500</td>\n",
              "      <td>0.030000</td>\n",
              "    </tr>\n",
              "    <tr>\n",
              "      <th>max</th>\n",
              "      <td>7500.000000</td>\n",
              "      <td>10.000000</td>\n",
              "      <td>0.290000</td>\n",
              "      <td>0.040000</td>\n",
              "    </tr>\n",
              "  </tbody>\n",
              "</table>\n",
              "</div>"
            ],
            "text/plain": [
              "            Amount        Age  Borrower.Rate  Debt.To.Income.Ratio\n",
              "count    50.000000  50.000000      50.000000             50.000000\n",
              "mean   2005.420000   5.340000       0.169364              0.021920\n",
              "std    1331.252534   2.832825       0.079238              0.010089\n",
              "min    1000.000000   1.000000       0.050000              0.000000\n",
              "25%    1000.000000   3.000000       0.085000              0.013000\n",
              "50%    1600.000000   6.000000       0.183750              0.020000\n",
              "75%    2537.500000   8.000000       0.237500              0.030000\n",
              "max    7500.000000  10.000000       0.290000              0.040000"
            ]
          },
          "metadata": {},
          "execution_count": 10
        }
      ]
    },
    {
      "cell_type": "markdown",
      "metadata": {
        "id": "C1IEYxtxEjRC"
      },
      "source": [
        "One important observation we can make from the above statistical description is that the minimum value for \"Debt.To.Income.Ratio\" is zero. For a particular value to be zero in this column, either the 'Amount' (if assumed same as Debt) has to be zero or the Income has to be infinite. But we know that the Income can not be infinite so that leaves us with one option, i.e. the 'Amount' has to be zero. In the below code we will try and check for particular row(s) where \"Debt.To.Income.Ratio\" is zero."
      ]
    },
    {
      "cell_type": "code",
      "metadata": {
        "colab": {
          "base_uri": "https://localhost:8080/"
        },
        "id": "CcFLi5-yFaf5",
        "outputId": "7cf6b022-55cc-4e9c-e690-40c7b150caf2"
      },
      "source": [
        "#Checking rows with zero value for \"Debt.To.Income.Ratio\" column\n",
        "print(df.loc[df['Debt.To.Income.Ratio'] == 0])"
      ],
      "execution_count": 11,
      "outputs": [
        {
          "output_type": "stream",
          "name": "stdout",
          "text": [
            "     Status Credit.Grade  Amount  Age  Borrower.Rate  Debt.To.Income.Ratio\n",
            "20  Current           AA    2550    6           0.05                   0.0\n"
          ]
        }
      ]
    },
    {
      "cell_type": "markdown",
      "metadata": {
        "id": "n1-cuW1gHED_"
      },
      "source": [
        "From the help of above code we can see that there is one entry where the \"Debt.To.Income.Ratio\" is zero. And as per the reasons stated in above paragraph, the \"Amount\" column value has to be zero but we see that the value for this row is 2550 which doesn't make sense w.r.t our previous analogy. Thus, we have one data row which demonstrates anomaly. We could either drop this data row or replace the \"Debt.To.Income.Ratio\" for this row with the mean of the \"Debt.To.Income.Ratio\" column(as mean and median are close for this data column, it signifies smaller skewness). For our case, we are replacing the zero value with the mean value of the column."
      ]
    },
    {
      "cell_type": "code",
      "metadata": {
        "colab": {
          "base_uri": "https://localhost:8080/"
        },
        "id": "NRtbE3e860QB",
        "outputId": "23f89b0d-fcf8-4bc2-e86c-4a0691e2cf97"
      },
      "source": [
        "#Checking skewness for the \"Debt.To.Income.Ratio\" column\n",
        "from scipy.stats import skew\n",
        "skew_debt_income_ratio = df['Debt.To.Income.Ratio']\n",
        "\n",
        "print('Skewness for \"Debt.To.Income.Ratio\" Column is : %3.2f' % skew(skew_debt_income_ratio))"
      ],
      "execution_count": 12,
      "outputs": [
        {
          "output_type": "stream",
          "name": "stdout",
          "text": [
            "Skewness for \"Debt.To.Income.Ratio\" Column is : 0.14\n"
          ]
        }
      ]
    },
    {
      "cell_type": "markdown",
      "metadata": {
        "id": "jo9-C6ND9yHd"
      },
      "source": [
        "With the above value of skewness for \"Debt.To.Income.Ratio\" column, we see that our earlier visual reasoning that skewness is small holds true. We can go ahead and replace the zero value with mean now, as said previously."
      ]
    },
    {
      "cell_type": "code",
      "metadata": {
        "colab": {
          "base_uri": "https://localhost:8080/"
        },
        "id": "7hmN-hnMPc7p",
        "outputId": "28f43287-e9e5-4a9c-c9ae-bf99d6f1a5bd"
      },
      "source": [
        "#Replacing the zero value with the mean of the column, as said above\n",
        "df['Debt.To.Income.Ratio'].replace(to_replace=0.0, value=0.0219, inplace=True)\n",
        "print(df.loc[df['Debt.To.Income.Ratio'] == 0.0219])"
      ],
      "execution_count": 13,
      "outputs": [
        {
          "output_type": "stream",
          "name": "stdout",
          "text": [
            "     Status Credit.Grade  Amount  Age  Borrower.Rate  Debt.To.Income.Ratio\n",
            "20  Current           AA    2550    6           0.05                0.0219\n"
          ]
        }
      ]
    },
    {
      "cell_type": "markdown",
      "metadata": {
        "id": "ywX8bf3qaere"
      },
      "source": [
        "For index number 20 above, we can see that the value has been replaced now. \n",
        "\n",
        "Now, let's use describe function to check the new statistical descriptions of \"Debt.To.Income.Ratio\"."
      ]
    },
    {
      "cell_type": "code",
      "metadata": {
        "colab": {
          "base_uri": "https://localhost:8080/"
        },
        "id": "lWKVfe05y7pH",
        "outputId": "85fa1b7a-c7b4-429d-96f8-8d6a050c3dc6"
      },
      "source": [
        "#checking new statistical description of the \"Debt.To.Income.Ratio\" column\n",
        "df['Debt.To.Income.Ratio'].describe()"
      ],
      "execution_count": 14,
      "outputs": [
        {
          "output_type": "execute_result",
          "data": {
            "text/plain": [
              "count    50.000000\n",
              "mean      0.022358\n",
              "std       0.009581\n",
              "min       0.010000\n",
              "25%       0.013500\n",
              "50%       0.020000\n",
              "75%       0.030000\n",
              "max       0.040000\n",
              "Name: Debt.To.Income.Ratio, dtype: float64"
            ]
          },
          "metadata": {},
          "execution_count": 14
        }
      ]
    },
    {
      "cell_type": "code",
      "metadata": {
        "colab": {
          "base_uri": "https://localhost:8080/"
        },
        "id": "K2NIVN-m-kt1",
        "outputId": "822f8338-fc33-47b8-e70d-c2d1af4129f3"
      },
      "source": [
        "#Checking new skewness for the Debt.To.Income.Ratio column\n",
        "from scipy.stats import skew\n",
        "skew_debt_income_ratio_new = df['Debt.To.Income.Ratio']\n",
        "\n",
        "print('New Skewness for \"Debt.To.Income.Ratio\" Column is : %3.2f' % skew(skew_debt_income_ratio_new))"
      ],
      "execution_count": 15,
      "outputs": [
        {
          "output_type": "stream",
          "name": "stdout",
          "text": [
            "New Skewness for \"Debt.To.Income.Ratio\" Column is : 0.27\n"
          ]
        }
      ]
    },
    {
      "cell_type": "markdown",
      "metadata": {
        "id": "VlnKA5Rt_8n0"
      },
      "source": [
        "We see that our skewness has increased after modifying the data but it is still under tolerable limits and it has helped us deal with anomaly."
      ]
    },
    {
      "cell_type": "markdown",
      "metadata": {
        "id": "3K5Jkx6Qa1JD"
      },
      "source": [
        "## **Univariate Analysis**\n",
        "\n",
        "---\n",
        "\n"
      ]
    },
    {
      "cell_type": "markdown",
      "metadata": {
        "id": "xUD-f7EBb2TL"
      },
      "source": [
        "### **Categorical Values Analysis**"
      ]
    },
    {
      "cell_type": "code",
      "metadata": {
        "colab": {
          "base_uri": "https://localhost:8080/",
          "height": 346
        },
        "id": "fM33TdWs7isM",
        "outputId": "b6acb050-0ece-4f75-c55b-287973f9b5e8"
      },
      "source": [
        "#To check unique entries under \"Status\" column, their respective counts and plot bar graph for the same\n",
        "sns.countplot(x=df['Status'], saturation = 0.8)\n",
        "df['Status'].value_counts()"
      ],
      "execution_count": 16,
      "outputs": [
        {
          "output_type": "execute_result",
          "data": {
            "text/plain": [
              "Current    47\n",
              "Late        2\n",
              "Default     1\n",
              "Name: Status, dtype: int64"
            ]
          },
          "metadata": {},
          "execution_count": 16
        },
        {
          "output_type": "display_data",
          "data": {
            "image/png": "[encoded data removed]",
            "text/plain": [
              "<Figure size 432x288 with 1 Axes>"
            ]
          },
          "metadata": {
            "needs_background": "light"
          }
        }
      ]
    },
    {
      "cell_type": "markdown",
      "metadata": {
        "id": "d-JTEbxvbndr"
      },
      "source": [
        "With the help of above, we can see that the Status : \"Current\" has the maximum count, which is 47 out of 50 data points. We can infer that the data set is heavily biased towards \"Current\" status compared to \"Default\" and \"Late\"."
      ]
    },
    {
      "cell_type": "code",
      "metadata": {
        "colab": {
          "base_uri": "https://localhost:8080/",
          "height": 430
        },
        "id": "T0fIaGpz8V5_",
        "outputId": "5d91b131-c4f8-4c77-ae43-1d63723eed9b"
      },
      "source": [
        "#To check unique entries under \"Credit.Grade\" column, their respective counts and plot bar graph for the same\n",
        "sns.countplot(x=df['Credit.Grade'], saturation = 0.8)\n",
        "df['Credit.Grade'].value_counts()"
      ],
      "execution_count": 17,
      "outputs": [
        {
          "output_type": "execute_result",
          "data": {
            "text/plain": [
              "HR    20\n",
              "AA    11\n",
              "E      5\n",
              "A      5\n",
              "B      3\n",
              "C      2\n",
              "NC     2\n",
              "D      2\n",
              "Name: Credit.Grade, dtype: int64"
            ]
          },
          "metadata": {},
          "execution_count": 17
        },
        {
          "output_type": "display_data",
          "data": {
            "image/png": "[encoded data removed]",
            "text/plain": [
              "<Figure size 432x288 with 1 Axes>"
            ]
          },
          "metadata": {
            "needs_background": "light"
          }
        }
      ]
    },
    {
      "cell_type": "markdown",
      "metadata": {
        "id": "lJybGKQUsnYj"
      },
      "source": [
        "With the help of above, we can see that the majority of count is occupied by \"Credit.Grade\" - \"HR\" & \"AA\", with total count of 31 out of 50. Apart from these 2, the count is relatively fairly distributed among other entries of \"Credit.Grade\" column."
      ]
    },
    {
      "cell_type": "markdown",
      "metadata": {
        "id": "NpgNm3FKtjxJ"
      },
      "source": [
        "Before moving ahead to analysis of Numerical values, lets try to plot Pearson coefficient values with the help of correlaton matrix. This will help us try to get any correlation, if there, between two numerical value columns."
      ]
    },
    {
      "cell_type": "code",
      "metadata": {
        "id": "BMIglDbT0nsR",
        "colab": {
          "base_uri": "https://localhost:8080/",
          "height": 382
        },
        "outputId": "a86f0f3e-1928-473b-b791-f7259152d479"
      },
      "source": [
        "#To check correlation coefficient values between different numerical values columns\n",
        "corrmat = df.corr()\n",
        "sns.heatmap(corrmat, xticklabels=corrmat.columns, yticklabels=corrmat.columns, annot=True, cmap=sns.diverging_palette(220, 20, as_cmap=True))"
      ],
      "execution_count": 18,
      "outputs": [
        {
          "output_type": "execute_result",
          "data": {
            "text/plain": [
              "<matplotlib.axes._subplots.AxesSubplot at 0x7fb88a60d450>"
            ]
          },
          "metadata": {},
          "execution_count": 18
        },
        {
          "output_type": "display_data",
          "data": {
            "image/png": "[encoded data removed]",
            "text/plain": [
              "<Figure size 432x288 with 2 Axes>"
            ]
          },
          "metadata": {
            "needs_background": "light"
          }
        }
      ]
    },
    {
      "cell_type": "markdown",
      "metadata": {
        "id": "1j45VsDqvsnv"
      },
      "source": [
        "Above, we have the correlation matrix which provides the numerical correlation between different numerical values of the dataset. The dataset we have with us tells us about the Loan/Debt summary(in brief) and in such scenario it's best to have correlation between important parameters like lending rate, loan/debt amount and tenure of loan/debt.\n",
        "\n",
        "We can see that the correlation value for \"Amount\" & \"Borrower.Rate\" is negative which provides us information that, in general, when we increase the amount, the borrower rate decreases.\n",
        "On contrary, there is a positive correlation between \"Amount\" & \"Age\", which rightly so demonstrates that, in general, higher loan/debt amount gets paid back to the lending firm over a longer tenure."
      ]
    },
    {
      "cell_type": "markdown",
      "metadata": {
        "id": "A8UKSZq9meEu"
      },
      "source": [
        "### **Numerical Data Analysis**"
      ]
    },
    {
      "cell_type": "code",
      "metadata": {
        "colab": {
          "base_uri": "https://localhost:8080/",
          "height": 484
        },
        "id": "xVXmLpdgC39u",
        "outputId": "abd577d6-9dce-479c-e5f1-017afca97496"
      },
      "source": [
        "sns.distplot(df['Amount'], kde=False, fit=norm);\n",
        "df['Amount'].describe()"
      ],
      "execution_count": 19,
      "outputs": [
        {
          "output_type": "stream",
          "name": "stderr",
          "text": [
            "/usr/local/lib/python3.7/dist-packages/seaborn/distributions.py:2619: FutureWarning: `distplot` is a deprecated function and will be removed in a future version. Please adapt your code to use either `displot` (a figure-level function with similar flexibility) or `histplot` (an axes-level function for histograms).\n",
            "  warnings.warn(msg, FutureWarning)\n"
          ]
        },
        {
          "output_type": "execute_result",
          "data": {
            "text/plain": [
              "count      50.000000\n",
              "mean     2005.420000\n",
              "std      1331.252534\n",
              "min      1000.000000\n",
              "25%      1000.000000\n",
              "50%      1600.000000\n",
              "75%      2537.500000\n",
              "max      7500.000000\n",
              "Name: Amount, dtype: float64"
            ]
          },
          "metadata": {},
          "execution_count": 19
        },
        {
          "output_type": "display_data",
          "data": {
            "image/png": "[encoded data removed]",
            "text/plain": [
              "<Figure size 432x288 with 1 Axes>"
            ]
          },
          "metadata": {
            "needs_background": "light"
          }
        }
      ]
    },
    {
      "cell_type": "code",
      "metadata": {
        "colab": {
          "base_uri": "https://localhost:8080/"
        },
        "id": "NmDBkGErzBs_",
        "outputId": "0a132310-daad-4dde-9b5a-701b6939428c"
      },
      "source": [
        "from scipy.stats import skew\n",
        "skewness_amount = df['Amount']\n",
        "\n",
        "print('Skewness of Amount column dataset is : ', skew(skewness_amount))"
      ],
      "execution_count": 20,
      "outputs": [
        {
          "output_type": "stream",
          "name": "stdout",
          "text": [
            "Skewness of Amount column dataset is :  2.024800943849104\n"
          ]
        }
      ]
    },
    {
      "cell_type": "code",
      "metadata": {
        "colab": {
          "base_uri": "https://localhost:8080/",
          "height": 269
        },
        "id": "cTP1SrN9q_0D",
        "outputId": "2a098b54-3c71-469c-8c49-5970bd3ca041"
      },
      "source": [
        "sns.boxplot(y=df['Amount'], width=0.2, whis=1, fliersize=10)"
      ],
      "execution_count": 21,
      "outputs": [
        {
          "output_type": "execute_result",
          "data": {
            "text/plain": [
              "<matplotlib.axes._subplots.AxesSubplot at 0x7fb88a4c8f90>"
            ]
          },
          "metadata": {},
          "execution_count": 21
        },
        {
          "output_type": "display_data",
          "data": {
            "image/png": "[encoded data removed]",
            "text/plain": [
              "<Figure size 432x288 with 1 Axes>"
            ]
          },
          "metadata": {
            "needs_background": "light"
          }
        }
      ]
    },
    {
      "cell_type": "markdown",
      "metadata": {
        "id": "olby4XDQrFl1"
      },
      "source": [
        "With the help of above graphs we can see that the \"Amount\" column is -\n",
        "1. Positive skewed with skewness value of 2.02(significant difference between median and mean)\n",
        "2. Outlier data are also present\n",
        "3. Most of the data point is concentrated around 1000-2500 value region \n",
        "\n",
        "Apart from the above, we can also note one interesting observation that the min value and 25% value(Q1) are the same for this column. As minimum is calculated with the formula, min = Q1 - IQR, and by the use of this formula, min value comes to be negative which doesn't make sense for this column. Hence, for the min, Q1 value has been used and that is the reason why we don't have any whisker on the lower half."
      ]
    },
    {
      "cell_type": "code",
      "metadata": {
        "colab": {
          "base_uri": "https://localhost:8080/",
          "height": 484
        },
        "id": "Rwo9-tE3u4RT",
        "outputId": "a53ee763-f765-48a2-db2b-8e0d20e5817d"
      },
      "source": [
        "sns.distplot(df['Age'], kde=False, fit=norm)\n",
        "df['Age'].describe()"
      ],
      "execution_count": 22,
      "outputs": [
        {
          "output_type": "stream",
          "name": "stderr",
          "text": [
            "/usr/local/lib/python3.7/dist-packages/seaborn/distributions.py:2619: FutureWarning: `distplot` is a deprecated function and will be removed in a future version. Please adapt your code to use either `displot` (a figure-level function with similar flexibility) or `histplot` (an axes-level function for histograms).\n",
            "  warnings.warn(msg, FutureWarning)\n"
          ]
        },
        {
          "output_type": "execute_result",
          "data": {
            "text/plain": [
              "count    50.000000\n",
              "mean      5.340000\n",
              "std       2.832825\n",
              "min       1.000000\n",
              "25%       3.000000\n",
              "50%       6.000000\n",
              "75%       8.000000\n",
              "max      10.000000\n",
              "Name: Age, dtype: float64"
            ]
          },
          "metadata": {},
          "execution_count": 22
        },
        {
          "output_type": "display_data",
          "data": {
            "image/png": "[encoded data removed]",
            "text/plain": [
              "<Figure size 432x288 with 1 Axes>"
            ]
          },
          "metadata": {
            "needs_background": "light"
          }
        }
      ]
    },
    {
      "cell_type": "code",
      "metadata": {
        "colab": {
          "base_uri": "https://localhost:8080/"
        },
        "id": "Z3TSsOO8u4fL",
        "outputId": "5497d46b-8e4d-44f9-d28d-750171d2819f"
      },
      "source": [
        "from scipy.stats import skew\n",
        "skewness_age = df['Age']\n",
        "\n",
        "print('Skewness of \"Age\" column dataset is : ', skew(skewness_age))"
      ],
      "execution_count": 23,
      "outputs": [
        {
          "output_type": "stream",
          "name": "stdout",
          "text": [
            "Skewness of \"Age\" column dataset is :  -0.09979759426158794\n"
          ]
        }
      ]
    },
    {
      "cell_type": "code",
      "metadata": {
        "colab": {
          "base_uri": "https://localhost:8080/",
          "height": 269
        },
        "id": "kSNqgwXYu4n0",
        "outputId": "509b8f38-8e20-42b1-a39c-ecaad1d2ec47"
      },
      "source": [
        "sns.boxplot(y=df['Age'], width=0.2, whis=1, fliersize=10)"
      ],
      "execution_count": 24,
      "outputs": [
        {
          "output_type": "execute_result",
          "data": {
            "text/plain": [
              "<matplotlib.axes._subplots.AxesSubplot at 0x7fb88a62d590>"
            ]
          },
          "metadata": {},
          "execution_count": 24
        },
        {
          "output_type": "display_data",
          "data": {
            "image/png": "[encoded data removed]",
            "text/plain": [
              "<Figure size 432x288 with 1 Axes>"
            ]
          },
          "metadata": {
            "needs_background": "light"
          }
        }
      ]
    },
    {
      "cell_type": "markdown",
      "metadata": {
        "id": "bYt2-DxjJCbZ"
      },
      "source": [
        "With the help of above graphs for \"Age\" column, we can draw that -\n",
        "1. It has quite a normal distribution with almost zero skewness and even spread throughout\n",
        "2. There are no outliers"
      ]
    },
    {
      "cell_type": "code",
      "metadata": {
        "colab": {
          "base_uri": "https://localhost:8080/",
          "height": 484
        },
        "id": "Azd6CAt5I_xi",
        "outputId": "952f7afd-a127-4c1c-851b-7614a4092e43"
      },
      "source": [
        "sns.distplot(df['Borrower.Rate'], kde=False, fit=norm)\n",
        "df['Borrower.Rate'].describe()"
      ],
      "execution_count": 25,
      "outputs": [
        {
          "output_type": "stream",
          "name": "stderr",
          "text": [
            "/usr/local/lib/python3.7/dist-packages/seaborn/distributions.py:2619: FutureWarning: `distplot` is a deprecated function and will be removed in a future version. Please adapt your code to use either `displot` (a figure-level function with similar flexibility) or `histplot` (an axes-level function for histograms).\n",
            "  warnings.warn(msg, FutureWarning)\n"
          ]
        },
        {
          "output_type": "execute_result",
          "data": {
            "text/plain": [
              "count    50.000000\n",
              "mean      0.169364\n",
              "std       0.079238\n",
              "min       0.050000\n",
              "25%       0.085000\n",
              "50%       0.183750\n",
              "75%       0.237500\n",
              "max       0.290000\n",
              "Name: Borrower.Rate, dtype: float64"
            ]
          },
          "metadata": {},
          "execution_count": 25
        },
        {
          "output_type": "display_data",
          "data": {
            "image/png": "[encoded data removed]",
            "text/plain": [
              "<Figure size 432x288 with 1 Axes>"
            ]
          },
          "metadata": {
            "needs_background": "light"
          }
        }
      ]
    },
    {
      "cell_type": "code",
      "metadata": {
        "colab": {
          "base_uri": "https://localhost:8080/"
        },
        "id": "6KBjdYD5I_8n",
        "outputId": "84ec3fd2-352c-4ad5-a556-f35b37c33f37"
      },
      "source": [
        "from scipy.stats import skew\n",
        "skewness_borrower_rate = df['Borrower.Rate']\n",
        "\n",
        "print('Skewness of \"Borrower.Rate\" column dataset is : ', skew(skewness_borrower_rate))"
      ],
      "execution_count": 26,
      "outputs": [
        {
          "output_type": "stream",
          "name": "stdout",
          "text": [
            "Skewness of \"Borrower.Rate\" column dataset is :  0.007144457974670291\n"
          ]
        }
      ]
    },
    {
      "cell_type": "code",
      "metadata": {
        "colab": {
          "base_uri": "https://localhost:8080/",
          "height": 271
        },
        "id": "A7Ue7gfvJAEr",
        "outputId": "6778a768-003d-40fe-9985-1d2742def607"
      },
      "source": [
        "sns.boxplot(y=df['Borrower.Rate'], width=0.2, whis=1, fliersize=10)"
      ],
      "execution_count": 27,
      "outputs": [
        {
          "output_type": "execute_result",
          "data": {
            "text/plain": [
              "<matplotlib.axes._subplots.AxesSubplot at 0x7fb88a2eb310>"
            ]
          },
          "metadata": {},
          "execution_count": 27
        },
        {
          "output_type": "display_data",
          "data": {
            "image/png": "[encoded data removed]",
            "text/plain": [
              "<Figure size 432x288 with 1 Axes>"
            ]
          },
          "metadata": {
            "needs_background": "light"
          }
        }
      ]
    },
    {
      "cell_type": "markdown",
      "metadata": {
        "id": "2kqH1F9YJjeE"
      },
      "source": [
        "With the help of above graphs for \"Borrower.Rate\" column, we can draw that -\n",
        "1. It has quite a normal distribution with almost zero skewness and even spread throughout\n",
        "2. There are no outliers"
      ]
    },
    {
      "cell_type": "code",
      "metadata": {
        "colab": {
          "base_uri": "https://localhost:8080/",
          "height": 484
        },
        "id": "RnBjNEF8J_3O",
        "outputId": "722d0623-4301-434f-8ac2-6a8e19a8e059"
      },
      "source": [
        "sns.distplot(df['Debt.To.Income.Ratio'], kde=False, fit=norm)\n",
        "df['Debt.To.Income.Ratio'].describe()"
      ],
      "execution_count": 28,
      "outputs": [
        {
          "output_type": "stream",
          "name": "stderr",
          "text": [
            "/usr/local/lib/python3.7/dist-packages/seaborn/distributions.py:2619: FutureWarning: `distplot` is a deprecated function and will be removed in a future version. Please adapt your code to use either `displot` (a figure-level function with similar flexibility) or `histplot` (an axes-level function for histograms).\n",
            "  warnings.warn(msg, FutureWarning)\n"
          ]
        },
        {
          "output_type": "execute_result",
          "data": {
            "text/plain": [
              "count    50.000000\n",
              "mean      0.022358\n",
              "std       0.009581\n",
              "min       0.010000\n",
              "25%       0.013500\n",
              "50%       0.020000\n",
              "75%       0.030000\n",
              "max       0.040000\n",
              "Name: Debt.To.Income.Ratio, dtype: float64"
            ]
          },
          "metadata": {},
          "execution_count": 28
        },
        {
          "output_type": "display_data",
          "data": {
            "image/png": "[encoded data removed]",
            "text/plain": [
              "<Figure size 432x288 with 1 Axes>"
            ]
          },
          "metadata": {
            "needs_background": "light"
          }
        }
      ]
    },
    {
      "cell_type": "code",
      "metadata": {
        "colab": {
          "base_uri": "https://localhost:8080/",
          "height": 269
        },
        "id": "mMClHN7hKAHO",
        "outputId": "c98e4776-e918-4f93-ce3e-2ba4c6f4c720"
      },
      "source": [
        "sns.boxplot(y=df['Debt.To.Income.Ratio'], width=0.2, whis=1, fliersize=10)"
      ],
      "execution_count": 29,
      "outputs": [
        {
          "output_type": "execute_result",
          "data": {
            "text/plain": [
              "<matplotlib.axes._subplots.AxesSubplot at 0x7fb88a299bd0>"
            ]
          },
          "metadata": {},
          "execution_count": 29
        },
        {
          "output_type": "display_data",
          "data": {
            "image/png": "[encoded data removed]",
            "text/plain": [
              "<Figure size 432x288 with 1 Axes>"
            ]
          },
          "metadata": {
            "needs_background": "light"
          }
        }
      ]
    },
    {
      "cell_type": "code",
      "metadata": {
        "colab": {
          "base_uri": "https://localhost:8080/"
        },
        "id": "8bqsxmfAJ__F",
        "outputId": "86db77c1-b5a0-4933-fac6-d4263237dd6c"
      },
      "source": [
        "from scipy.stats import skew\n",
        "skewness_debt_to_income_ratio = df['Debt.To.Income.Ratio']\n",
        "\n",
        "print('Skewness of \"Debt.To.Income.Ratio\" column dataset is : ', skew(skewness_debt_to_income_ratio))"
      ],
      "execution_count": 30,
      "outputs": [
        {
          "output_type": "stream",
          "name": "stdout",
          "text": [
            "Skewness of \"Debt.To.Income.Ratio\" column dataset is :  0.2711250659606976\n"
          ]
        }
      ]
    },
    {
      "cell_type": "markdown",
      "metadata": {
        "id": "3Ea7yzF-J2hV"
      },
      "source": [
        "With the help of above graphs we can see that the \"Debt.To.Income.Ratio\" column -\n",
        "1. is a bit positively skewed with skewness value of 0.27(little difference between median and mean)\n",
        "2. have no outliers\n"
      ]
    },
    {
      "cell_type": "markdown",
      "metadata": {
        "id": "Y5x8G1a5M4mT"
      },
      "source": [
        "## **Bivariate Analysis**\n",
        "\n",
        "---\n",
        "\n"
      ]
    },
    {
      "cell_type": "markdown",
      "metadata": {
        "id": "rBsyGFC1C0WS"
      },
      "source": [
        "### **Numerical Values Analysis**"
      ]
    },
    {
      "cell_type": "code",
      "metadata": {
        "colab": {
          "base_uri": "https://localhost:8080/",
          "height": 386
        },
        "id": "9wajkVFDYgZk",
        "outputId": "5194b827-eca0-4a7b-c094-d56be71bb4eb"
      },
      "source": [
        "#scatter plot\n",
        "sns.relplot(x='Amount', y='Age', hue='Status', data=df)"
      ],
      "execution_count": 34,
      "outputs": [
        {
          "output_type": "execute_result",
          "data": {
            "text/plain": [
              "<seaborn.axisgrid.FacetGrid at 0x7fb8817bca10>"
            ]
          },
          "metadata": {},
          "execution_count": 34
        },
        {
          "output_type": "display_data",
          "data": {
            "image/png": "[encoded data removed]",
            "text/plain": [
              "<Figure size 433.5x360 with 1 Axes>"
            ]
          },
          "metadata": {
            "needs_background": "light"
          }
        }
      ]
    },
    {
      "cell_type": "markdown",
      "metadata": {
        "id": "N9MQD34sZc5j"
      },
      "source": [
        "The above graph doesn't help us at all as the \"Current\" value for \"Status\" column are quite more in numbers in comparison to other entries. We'll try to leverage the help of \"Credit.Grade\" for next graph to understand the relationship between \"Age\" & \"Amount\".\n",
        "\n",
        "Also, for further analysis, we won't be using that much \"Status\" column it is heavily biased towards \"Current\" entry and will not provide us any meaningful insight."
      ]
    },
    {
      "cell_type": "code",
      "metadata": {
        "colab": {
          "base_uri": "https://localhost:8080/",
          "height": 386
        },
        "id": "kYOC-euGCugM",
        "outputId": "827d0883-e058-4d37-b6b1-4ea2384634a2"
      },
      "source": [
        "sns.relplot(x='Amount', y='Age', hue='Credit.Grade', data=df)"
      ],
      "execution_count": 35,
      "outputs": [
        {
          "output_type": "execute_result",
          "data": {
            "text/plain": [
              "<seaborn.axisgrid.FacetGrid at 0x7fb881787fd0>"
            ]
          },
          "metadata": {},
          "execution_count": 35
        },
        {
          "output_type": "display_data",
          "data": {
            "image/png": "[encoded data removed]",
            "text/plain": [
              "<Figure size 431.75x360 with 1 Axes>"
            ]
          },
          "metadata": {
            "needs_background": "light"
          }
        }
      ]
    },
    {
      "cell_type": "code",
      "metadata": {
        "colab": {
          "base_uri": "https://localhost:8080/",
          "height": 386
        },
        "id": "RnvtFxfhUs9h",
        "outputId": "8e8cb4b0-ae26-4b59-fe38-484eef21ab3f"
      },
      "source": [
        "sns.displot(y=df['Amount'], x=df['Age'])"
      ],
      "execution_count": null,
      "outputs": [
        {
          "output_type": "execute_result",
          "data": {
            "text/plain": [
              "<seaborn.axisgrid.FacetGrid at 0x7fc0e7a40c10>"
            ]
          },
          "metadata": {},
          "execution_count": 67
        },
        {
          "output_type": "display_data",
          "data": {
            "image/png": "[encoded data removed]",
            "text/plain": [
              "<Figure size 360x360 with 1 Axes>"
            ]
          },
          "metadata": {
            "needs_background": "light"
          }
        }
      ]
    },
    {
      "cell_type": "markdown",
      "metadata": {
        "id": "9EXyGPLza1fR"
      },
      "source": [
        "From the above 2 graphs we can see that the most of the data points are present for Amount < 3000 and the Age for the same is fairly uniformly spread from 1 to 10. For the \"Age\", we can see that maximum data points corresponds to between 5 and 8 and that is signified with the help of heatmap above as the colors are more concentrated and darker in that region.\n",
        "\n",
        "Only few data points corresponds to over Amount >= 5000 and infact no data point between 3000 & 5000. We are not able to get a proper understanding of \"Credit.Grade\" in this and we'll try to explore it more later."
      ]
    },
    {
      "cell_type": "code",
      "metadata": {
        "colab": {
          "base_uri": "https://localhost:8080/",
          "height": 296
        },
        "id": "RS3KKI-XUXEu",
        "outputId": "065a6cb5-0a53-4e84-fdf8-5cf06fded05f"
      },
      "source": [
        "sns.boxplot(y=df['Amount'], x=df['Age'], width=0.4, whis=1, fliersize=10)"
      ],
      "execution_count": null,
      "outputs": [
        {
          "output_type": "execute_result",
          "data": {
            "text/plain": [
              "<matplotlib.axes._subplots.AxesSubplot at 0x7fc0e78d3110>"
            ]
          },
          "metadata": {},
          "execution_count": 69
        },
        {
          "output_type": "display_data",
          "data": {
            "image/png": "[encoded data removed]",
            "text/plain": [
              "<Figure size 432x288 with 1 Axes>"
            ]
          },
          "metadata": {
            "needs_background": "light"
          }
        }
      ]
    },
    {
      "cell_type": "markdown",
      "metadata": {
        "id": "bQg07y_Ln8z3"
      },
      "source": [
        "With the help of above box plot for \"Amount\" across \"Age\" gives us the following key points -\n",
        "1. Most of the data points for \"Amount\" across \"Age\" depicts great degree of skewness except for \"Age\" = 9, which demonstrates fairly normal distribution\n",
        "2. For \"Age\" = 3, 5, 8 & 10; we have presenece of outlier and they are present above maximum categorical value0\n",
        "3. No box plot for \"Age\" = 3 as we have only data point\n",
        "4. More than half of the \"Age\" category has missing whiskers, which demonstrates that min/max value for the concerned \"Age\" groups equals their Q1/Q3 values respectively."
      ]
    },
    {
      "cell_type": "code",
      "metadata": {
        "id": "WfqlxmbLEOfO",
        "colab": {
          "base_uri": "https://localhost:8080/",
          "height": 400
        },
        "outputId": "63a28568-c1ba-4955-af48-df844cce0899"
      },
      "source": [
        "sns.relplot(x='Amount', y='Borrower.Rate', hue='Credit.Grade', data=df)"
      ],
      "execution_count": null,
      "outputs": [
        {
          "output_type": "execute_result",
          "data": {
            "text/plain": [
              "<seaborn.axisgrid.FacetGrid at 0x7fc0e790d350>"
            ]
          },
          "metadata": {},
          "execution_count": 70
        },
        {
          "output_type": "display_data",
          "data": {
            "image/png": "[encoded data removed]",
            "text/plain": [
              "<Figure size 431.75x360 with 1 Axes>"
            ]
          },
          "metadata": {
            "needs_background": "light"
          }
        }
      ]
    },
    {
      "cell_type": "markdown",
      "metadata": {
        "id": "pAyiKTM5rTmr"
      },
      "source": [
        "The above graph gives us a beautiful depiction of \"Borrower.Rate\" across \"Amount\" differentiated with the help of \"Credit.Grade\". Following are the observations we can make from ab0ve -\n",
        "1. More than half of data(largest chunk of data) is present in higher \"Borrower.Rate\" category i.e. above 0.15\n",
        "2. Second largest chunk of data is concentrated in the region of \"Borrower.Rate\" = (0.05, 0.10), both included\n",
        "\n",
        "Leveraging the help of \"Credit.Grade\" we can see -\n",
        "1. \"Credit.Grade - AA, A & B\", is concentrated in the region of lower \"Borrower.Rate\"\n",
        "2. High \"Borrower.Rate\" corresponds to \"Credit.Grade - HR, E & D\"\n",
        "\n",
        "Thus, we can infer that, on a general note -- \"Credit.Grade\" of AA, A & B might denote better credit rating as the \"Borrower.Rate\" is low and \"Credit.Grade\" of HR, E & D might denote not-so-good credit rating as the \"Borrower.Rate\" for these credit grades are comparibly higher for same loan/debt amount.\n"
      ]
    },
    {
      "cell_type": "code",
      "metadata": {
        "colab": {
          "base_uri": "https://localhost:8080/",
          "height": 400
        },
        "id": "kTAI4MU1uSW7",
        "outputId": "46557b22-7cff-478b-c730-ede465d09f44"
      },
      "source": [
        "sns.relplot(x='Amount', y='Debt.To.Income.Ratio', hue='Credit.Grade', data=df)"
      ],
      "execution_count": null,
      "outputs": [
        {
          "output_type": "execute_result",
          "data": {
            "text/plain": [
              "<seaborn.axisgrid.FacetGrid at 0x7fc0e7787750>"
            ]
          },
          "metadata": {},
          "execution_count": 71
        },
        {
          "output_type": "display_data",
          "data": {
            "image/png": "[encoded data removed]",
            "text/plain": [
              "<Figure size 431.75x360 with 1 Axes>"
            ]
          },
          "metadata": {
            "needs_background": "light"
          }
        }
      ]
    },
    {
      "cell_type": "markdown",
      "metadata": {
        "id": "srU6jB5swVq8"
      },
      "source": [
        "Plot of \"Debt.To.Income.Ratio\" across \"Amount\" is not able to provide us any concrete insight. Few discrete insights that we may get throught above is - \n",
        "1. HR \"Credit.Grade\" - for approximately same amount (~1000), Y value ranges from 0.01 to little above 0.03, which may infer that relatively higher income category people are also taking debt/loan of 1000\n",
        "2. Same inferences can be drawn for AA \"Credit.Grade\" as the Y value is spread across the entire range\n",
        "\n",
        "As said earlier, the above inferences can not to be taken as complete truth as we have only few dataset and for the dataset present the above holds true."
      ]
    },
    {
      "cell_type": "code",
      "metadata": {
        "colab": {
          "base_uri": "https://localhost:8080/",
          "height": 400
        },
        "id": "XmgrL2phuSdP",
        "outputId": "dcfe84e0-396c-4f0e-f4b8-e849a297e4ce"
      },
      "source": [
        "sns.relplot(x='Age', y='Borrower.Rate', hue='Credit.Grade', data=df)"
      ],
      "execution_count": null,
      "outputs": [
        {
          "output_type": "execute_result",
          "data": {
            "text/plain": [
              "<seaborn.axisgrid.FacetGrid at 0x7fc0e79bc890>"
            ]
          },
          "metadata": {},
          "execution_count": 72
        },
        {
          "output_type": "display_data",
          "data": {
            "image/png": "[encoded data removed]",
            "text/plain": [
              "<Figure size 431.75x360 with 1 Axes>"
            ]
          },
          "metadata": {
            "needs_background": "light"
          }
        }
      ]
    },
    {
      "cell_type": "markdown",
      "metadata": {
        "id": "Oq830Ddl-Cfq"
      },
      "source": [
        "If we divide the above square graph area with the help of a diagonal running from top-left corner to bottom-right then, we see that fairly equal number of dataset belongs to both the resulting right-angled triangles. For now we'll name them upper & lower right-angled triangle.\n",
        "\n",
        "Inferences we can draw from the above are -\n",
        "1. Dataset present in the below right-angled triangle majorly belong to \"Credit.Grade\" - AA, A, B & C; which shows lower \"Borrower.Rate\" and thus better credit grade(from our previous inference)\n",
        "2. Dataset present in the upper right-angled triangle majorly belong to \"Credit.Grade\" - D, E & HR; which shows higher \"Borrower.Rate\" and thus not-so-better credit grade(from our previous inference)\n",
        "3. For \"Credit.Grade\" - HR, the \"Borrower.Rate\" decreases as the \"Age\" of the loan/debt increases which depicts real world scenario that when we opt for higher tenure of loan then lending/borrowing rate is generally low\n",
        "4. We can not say the above to be true for \"Credit.Grade\" - AA, as the \"Borrower.Rate\" is uniformly the same for all \"Age\" values. This might show that the \"Borrower.Rate\" category of (0.05-0.1) might be the lending rate for AA \"Credit.Grade\" customers and this could be the lowest lending rate that are provided to customers having better credit grade\n",
        "\n",
        "We can say that for \"Credit.Grade\" - E, relatively(visually) equal number of dataset belong to the upper and lower right-angled triangle. This can be explained with the fact that as the age of the loan/debt increases, the firm increases their lending/borrowing rate to the customers.\n",
        "\n",
        "For \"Credit.Grade\" - NC, the dataset seems to be ambigous as it is present in both the extremes of \"Borrower.Rate\" for relatively same \"Age\"(1 & 2). So, for this \"Credit.Grade\" we will avoid commenting anything concrete or with confidence as we don't have enough data point. Same inference can be drawn for this \"Credit.Grade\" across different Bivariate analysis which includes \"Credit.Grade\"."
      ]
    },
    {
      "cell_type": "code",
      "metadata": {
        "colab": {
          "base_uri": "https://localhost:8080/",
          "height": 400
        },
        "id": "WD2WZ6kquSki",
        "outputId": "12a3e480-e11e-4f4a-9bcf-2658c6f02308"
      },
      "source": [
        "sns.relplot(x='Age', y='Debt.To.Income.Ratio', hue='Credit.Grade', data=df)"
      ],
      "execution_count": null,
      "outputs": [
        {
          "output_type": "execute_result",
          "data": {
            "text/plain": [
              "<seaborn.axisgrid.FacetGrid at 0x7fc0e7c68190>"
            ]
          },
          "metadata": {},
          "execution_count": 73
        },
        {
          "output_type": "display_data",
          "data": {
            "image/png": "[encoded data removed]",
            "text/plain": [
              "<Figure size 431.75x360 with 1 Axes>"
            ]
          },
          "metadata": {
            "needs_background": "light"
          }
        }
      ]
    },
    {
      "cell_type": "markdown",
      "metadata": {
        "id": "f49xpsjqvb-V"
      },
      "source": [
        "\"Debt.To.Income.Rate\" across \"Age\" scatter plot isn't able to provide us any kind of proper insight as we can see the data point are fairly spread over and \"Credit.Grade\" is also not able to segregate the data points at all."
      ]
    },
    {
      "cell_type": "markdown",
      "metadata": {
        "id": "Yg3Y6XvgCczj"
      },
      "source": [
        "### **Categorical Values Analysis**"
      ]
    },
    {
      "cell_type": "markdown",
      "metadata": {
        "id": "FrW0gjEVDWCu"
      },
      "source": [
        "As we have seen earlier that analysis on \"Status\" will not provide us any insight, we will go ahead and try to explore \"Credit.Grade\" across different numerical parameters."
      ]
    },
    {
      "cell_type": "code",
      "metadata": {
        "id": "ngk988Iqng2o",
        "colab": {
          "base_uri": "https://localhost:8080/",
          "height": 282
        },
        "outputId": "1f40a816-556c-4407-a4b0-ea8fa4287500"
      },
      "source": [
        "sns.boxplot(x=df['Credit.Grade'], y=df['Borrower.Rate'])\n",
        "mean = round(df['Age'].mean(), 1)\n",
        "sd = round(df['Age'].std(), 1)\n",
        "median =round(df['Age'].median(), 1)"
      ],
      "execution_count": null,
      "outputs": [
        {
          "output_type": "display_data",
          "data": {
            "image/png": "[encoded data removed]",
            "text/plain": [
              "<Figure size 432x288 with 1 Axes>"
            ]
          },
          "metadata": {
            "needs_background": "light"
          }
        }
      ]
    },
    {
      "cell_type": "markdown",
      "metadata": {
        "id": "bV3qdAN_EkTp"
      },
      "source": [
        "With the help of above box plot, we can clearly say that, for \"Borrower.Rate\" across different \"Credit.Grade\" --- AA < A < B < C < (D or E) < HR. The comparitive relation between \"Credit.Grade\" D & E is kind of vague and we need more datapoints to comment anything in confidence. \n",
        "\n",
        "As for the reason stated earlier, any comments on \"Credit.Grade\" - NC, has been avoided."
      ]
    },
    {
      "cell_type": "code",
      "metadata": {
        "colab": {
          "base_uri": "https://localhost:8080/",
          "height": 296
        },
        "id": "qxw7xnBtDmbJ",
        "outputId": "2e3745c0-2dce-4d8d-e659-254a40d6717d"
      },
      "source": [
        "sns.boxplot(x=df['Credit.Grade'], y=df['Age'])"
      ],
      "execution_count": null,
      "outputs": [
        {
          "output_type": "execute_result",
          "data": {
            "text/plain": [
              "<matplotlib.axes._subplots.AxesSubplot at 0x7fc0e76220d0>"
            ]
          },
          "metadata": {},
          "execution_count": 75
        },
        {
          "output_type": "display_data",
          "data": {
            "image/png": "[encoded data removed]",
            "text/plain": [
              "<Figure size 432x288 with 1 Axes>"
            ]
          },
          "metadata": {
            "needs_background": "light"
          }
        }
      ]
    },
    {
      "cell_type": "markdown",
      "metadata": {
        "id": "EzfQaggWFeoV"
      },
      "source": [
        "No concrete insight can be obtained from the above as the \"Age\" is fairly spread over different \"Credit.Grade\"."
      ]
    },
    {
      "cell_type": "code",
      "metadata": {
        "colab": {
          "base_uri": "https://localhost:8080/",
          "height": 296
        },
        "id": "5FGg89TFDs6W",
        "outputId": "dab901e9-2c03-4792-cc16-2d9f3fdc957d"
      },
      "source": [
        "sns.boxplot(x=df['Credit.Grade'], y=df['Amount'])"
      ],
      "execution_count": null,
      "outputs": [
        {
          "output_type": "execute_result",
          "data": {
            "text/plain": [
              "<matplotlib.axes._subplots.AxesSubplot at 0x7fc0e7601ed0>"
            ]
          },
          "metadata": {},
          "execution_count": 76
        },
        {
          "output_type": "display_data",
          "data": {
            "image/png": "[encoded data removed]",
            "text/plain": [
              "<Figure size 432x288 with 1 Axes>"
            ]
          },
          "metadata": {
            "needs_background": "light"
          }
        }
      ]
    },
    {
      "cell_type": "markdown",
      "metadata": {
        "id": "T2xKpvgoFvV4"
      },
      "source": [
        "Same as previous analysis, no concrete insight can be obtained from above box plot for \"Amount\" across different \"Credit.Grade\". Although we can see that, only \"Credit.Grade\" - AA contains outlier which has a count of 2."
      ]
    }
  ]
}